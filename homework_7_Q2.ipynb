{
 "cells": [
  {
   "cell_type": "code",
   "execution_count": 170,
   "metadata": {},
   "outputs": [],
   "source": [
    "# Q2: K-Means algorithm with K=3 in the iris dataset"
   ]
  },
  {
   "cell_type": "code",
   "execution_count": 171,
   "metadata": {},
   "outputs": [],
   "source": [
    "# Import necessary libraries\n",
    "from copy import deepcopy\n",
    "import numpy as np # linear algebra\n",
    "import pandas as pd # data processing, CSV file I/O (e.g. pd.read_csv)\n",
    "from matplotlib import pyplot as plt"
   ]
  },
  {
   "cell_type": "code",
   "execution_count": 172,
   "metadata": {},
   "outputs": [],
   "source": [
    "# Upload data from Iris dataset (first two dimensions)"
   ]
  },
  {
   "cell_type": "code",
   "execution_count": 173,
   "metadata": {},
   "outputs": [],
   "source": [
    "data_file = pd.read_csv(\"/home/river/percepcio/RoboticaUVic-Unsupervised/iris.data\") #load the dataset"
   ]
  },
  {
   "cell_type": "code",
   "execution_count": 174,
   "metadata": {},
   "outputs": [
    {
     "data": {
      "text/plain": [
       "<matplotlib.collections.PathCollection at 0x7f7a9dcd9748>"
      ]
     },
     "execution_count": 174,
     "metadata": {},
     "output_type": "execute_result"
    },
    {
     "data": {
      "image/png": "[encoded data removed]",
      "text/plain": [
       "<Figure size 432x288 with 1 Axes>"
      ]
     },
     "metadata": {},
     "output_type": "display_data"
    }
   ],
   "source": [
    "data_file.values[:, 0:2]\n",
    "data_1 = data_file.values[:, 0:2]\n",
    "data_2 = data_file.values[:, 0:2]\n",
    "data_3 = data_file.values[:, 0:2]\n",
    "\n",
    "data = np.concatenate((data_1, data_2, data_3), axis = 0)\n",
    "plt.scatter(data[:,0], data[:,1], s=7)"
   ]
  },
  {
   "cell_type": "code",
   "execution_count": 175,
   "metadata": {},
   "outputs": [
    {
     "data": {
      "text/plain": [
       "<matplotlib.collections.PathCollection at 0x7f7a9dcbb7f0>"
      ]
     },
     "execution_count": 175,
     "metadata": {},
     "output_type": "execute_result"
    },
    {
     "data": {
      "image/png": "[encoded data removed]",
      "text/plain": [
       "<Figure size 432x288 with 1 Axes>"
      ]
     },
     "metadata": {},
     "output_type": "display_data"
    }
   ],
   "source": [
    "# Number of clusters\n",
    "k = 3\n",
    "# Number of training data\n",
    "n = data.shape[0]\n",
    "# Number of features in the data\n",
    "c = data.shape[1]\n",
    "\n",
    "# Initialize the K cluster centers C\n",
    "# Generate random centers, here we use sigma and mean to ensure it represent the whole data\n",
    "data = np.array(data, dtype=np.float64) # can use np.float32 as well\n",
    "mean = np.mean(data, axis = 0)\n",
    "std = np.std(data, axis = 0)\n",
    "centers = np.random.randn(k,c)*std + mean\n",
    "\n",
    "# Plot the data and the centers generated as random\n",
    "plt.scatter(data[:,0], data[:,1], s=7)\n",
    "plt.scatter(centers[:,0], centers[:,1], marker='*', c='g', s=150)"
   ]
  },
  {
   "cell_type": "code",
   "execution_count": 176,
   "metadata": {},
   "outputs": [
    {
     "data": {
      "text/plain": [
       "array([[6.12352941, 2.83921569],\n",
       "       [7.05      , 3.08333333],\n",
       "       [5.11176471, 3.19558824]])"
      ]
     },
     "execution_count": 176,
     "metadata": {},
     "output_type": "execute_result"
    }
   ],
   "source": [
    "centers_old = np.zeros(centers.shape) # to store old centers\n",
    "centers_new = deepcopy(centers) # Store new centers\n",
    "\n",
    "data.shape\n",
    "clusters = np.zeros(n)\n",
    "distances = np.zeros((n,k))\n",
    "\n",
    "error = np.linalg.norm(centers_new - centers_old)\n",
    "\n",
    "# When, after an update, the estimate of that center stays the same, exit loop\n",
    "while error != 0:\n",
    "    # Measure the distance to every center\n",
    "    for i in range(k):\n",
    "        distances[:,i] = np.linalg.norm(data - centers[i], axis=1)\n",
    "    # Y[i] = nearest_centroid(X[i], C): Assign all training data to closest center\n",
    "    clusters = np.argmin(distances, axis = 1)\n",
    "    \n",
    "    centers_old = deepcopy(centers_new)\n",
    "    # C = recompute_centroids(Y, X): Calculate mean for every cluster and update the center\n",
    "    for i in range(k):\n",
    "        centers_new[i] = np.mean(data[clusters == i], axis=0)\n",
    "    error = np.linalg.norm(centers_new - centers_old)\n",
    "# Final stable centroids\n",
    "centers_new"
   ]
  },
  {
   "cell_type": "code",
   "execution_count": 177,
   "metadata": {},
   "outputs": [
    {
     "data": {
      "text/plain": [
       "<matplotlib.collections.PathCollection at 0x7f7a9dc1a6a0>"
      ]
     },
     "execution_count": 177,
     "metadata": {},
     "output_type": "execute_result"
    },
    {
     "data": {
      "image/png": "[encoded data removed]",
      "text/plain": [
       "<Figure size 432x288 with 1 Axes>"
      ]
     },
     "metadata": {},
     "output_type": "display_data"
    }
   ],
   "source": [
    "# Plot the data and the centers generated as random\n",
    "plt.scatter(data[:,0], data[:,1], s=7)\n",
    "plt.scatter(centers_new[:,0], centers_new[:,1], marker='*', c='g', s=150)"
   ]
  },
  {
   "cell_type": "code",
   "execution_count": 188,
   "metadata": {},
   "outputs": [],
   "source": [
    "# Upload data from Iris dataset (four-dimensional vectors)"
   ]
  },
  {
   "cell_type": "code",
   "execution_count": 189,
   "metadata": {},
   "outputs": [],
   "source": [
    "data_file = pd.read_csv(\"/home/river/percepcio/RoboticaUVic-Unsupervised/iris.data\") #load the dataset"
   ]
  },
  {
   "cell_type": "code",
   "execution_count": 190,
   "metadata": {},
   "outputs": [],
   "source": [
    "data_file.values[:, 0:4]\n",
    "data_41 = data_file.values[:, 0:4]\n",
    "data_42 = data_file.values[:, 0:4]\n",
    "data_43 = data_file.values[:, 0:4]\n",
    "\n",
    "data = np.concatenate((data_41, data_42, data_43), axis = 0)"
   ]
  },
  {
   "cell_type": "code",
   "execution_count": 191,
   "metadata": {},
   "outputs": [],
   "source": [
    "# Number of clusters\n",
    "k = 3\n",
    "# Number of training data\n",
    "n = data.shape[0]\n",
    "# Number of features in the data\n",
    "c = data.shape[1]\n",
    "\n",
    "# Initialize the K cluster centers C\n",
    "# Generate random centers, here we use sigma and mean to ensure it represent the whole data\n",
    "data = np.array(data, dtype=np.float64) # can use np.float32 as well\n",
    "mean = np.mean(data, axis = 0)\n",
    "std = np.std(data, axis = 0)\n",
    "centers = np.random.randn(k,c)*std + mean\n",
    "\n",
    "# Plot the data and the centers generated as random\n",
    "#plt.scatter(data[:,0], data[:,1], s=7)\n",
    "#plt.scatter(centers[:,0], centers[:,1], marker='*', c='g', s=150)"
   ]
  },
  {
   "cell_type": "code",
   "execution_count": 192,
   "metadata": {},
   "outputs": [
    {
     "data": {
      "text/plain": [
       "array([[6.87352941, 3.07352941, 5.82352941, 2.10294118],\n",
       "       [6.10377358, 2.84339623, 4.61509434, 1.5245283 ],\n",
       "       [5.06774194, 3.21612903, 1.93225806, 0.44032258]])"
      ]
     },
     "execution_count": 192,
     "metadata": {},
     "output_type": "execute_result"
    }
   ],
   "source": [
    "centers_old = np.zeros(centers.shape) # to store old centers\n",
    "centers_new = deepcopy(centers) # Store new centers\n",
    "\n",
    "data.shape\n",
    "clusters = np.zeros(n)\n",
    "distances = np.zeros((n,k))\n",
    "\n",
    "error = np.linalg.norm(centers_new - centers_old)\n",
    "\n",
    "# When, after an update, the estimate of that center stays the same, exit loop\n",
    "while error != 0:\n",
    "    # Measure the distance to every center\n",
    "    for i in range(k):\n",
    "        distances[:,i] = np.linalg.norm(data - centers[i], axis=1)\n",
    "    # Y[i] = nearest_centroid(X[i], C): Assign all training data to closest center\n",
    "    clusters = np.argmin(distances, axis = 1)\n",
    "    \n",
    "    centers_old = deepcopy(centers_new)\n",
    "    # C = recompute_centroids(Y, X): Calculate mean for every cluster and update the center\n",
    "    for i in range(k):\n",
    "        centers_new[i] = np.mean(data[clusters == i], axis=0)\n",
    "    error = np.linalg.norm(centers_new - centers_old)\n",
    "# Final stable centroids\n",
    "centers_new"
   ]
  },
  {
   "cell_type": "code",
   "execution_count": 193,
   "metadata": {},
   "outputs": [],
   "source": [
    "# Plot the data and the centers generated as random\n",
    "#plt.scatter(data[:,0], data[:,1], s=7)\n",
    "#plt.scatter(centers_new[:,0], centers_new[:,1], marker='*', c='g', s=150)"
   ]
  },
  {
   "cell_type": "code",
   "execution_count": 194,
   "metadata": {},
   "outputs": [],
   "source": [
    "# Report the MSE for each cluster and globally"
   ]
  },
  {
   "cell_type": "code",
   "execution_count": 195,
   "metadata": {},
   "outputs": [
    {
     "data": {
      "text/plain": [
       "0.15340614186851212"
      ]
     },
     "execution_count": 195,
     "metadata": {},
     "output_type": "execute_result"
    }
   ],
   "source": [
    "# MSE for cluster 0\n",
    "i=0\n",
    "#for i in range(k):\n",
    "        #mse[i] = np.mean(data[clusters == i], axis=0)\n",
    "mse = (np.square(data[clusters == i] - centers_new[i])).mean(axis=None)\n",
    "mse"
   ]
  },
  {
   "cell_type": "code",
   "execution_count": 196,
   "metadata": {},
   "outputs": [
    {
     "data": {
      "text/plain": [
       "0.1064880740477038"
      ]
     },
     "execution_count": 196,
     "metadata": {},
     "output_type": "execute_result"
    }
   ],
   "source": [
    "# MSE for cluster 1\n",
    "i=1\n",
    "#for i in range(k):\n",
    "        #mse[i] = np.mean(data[clusters == i], axis=0)\n",
    "mse = (np.square(data[clusters == i] - centers_new[i])).mean(axis=None)\n",
    "mse"
   ]
  },
  {
   "cell_type": "code",
   "execution_count": 197,
   "metadata": {},
   "outputs": [
    {
     "data": {
      "text/plain": [
       "0.3603388397502601"
      ]
     },
     "execution_count": 197,
     "metadata": {},
     "output_type": "execute_result"
    }
   ],
   "source": [
    "# MSE for cluster 2\n",
    "i=2\n",
    "#for i in range(k):\n",
    "        #mse[i] = np.mean(data[clusters == i], axis=0)\n",
    "mse = (np.square(data[clusters == i] - centers_new[i])).mean(axis=None)\n",
    "mse"
   ]
  },
  {
   "cell_type": "code",
   "execution_count": null,
   "metadata": {},
   "outputs": [],
   "source": []
  }
 ],
 "metadata": {
  "kernelspec": {
   "display_name": "Python 3",
   "language": "python",
   "name": "python3"
  },
  "language_info": {
   "codemirror_mode": {
    "name": "ipython",
    "version": 3
   },
   "file_extension": ".py",
   "mimetype": "text/x-python",
   "name": "python",
   "nbconvert_exporter": "python",
   "pygments_lexer": "ipython3",
   "version": "3.6.7"
  }
 },
 "nbformat": 4,
 "nbformat_minor": 2
}
